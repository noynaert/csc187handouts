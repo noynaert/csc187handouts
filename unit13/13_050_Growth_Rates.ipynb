{
 "cells": [
  {
   "cell_type": "code",
   "execution_count": null,
   "metadata": {},
   "outputs": [],
   "source": []
  },
  {
   "cell_type": "markdown",
   "metadata": {},
   "source": [
    "# 12.050 Linear Growth Rates"
   ]
  },
  {
   "cell_type": "code",
   "execution_count": null,
   "metadata": {},
   "outputs": [],
   "source": [
    "import matplotlib.pyplot as plt\n",
    "\n",
    "n=[1,2,3,4,5,6,7,8, 9, ]\n",
    "y=[2,4,6,8,10,12,14,16,18,]\n",
    "plt.plot(n,y,\"r\")\n",
    "plt.show()"
   ]
  },
  {
   "cell_type": "code",
   "execution_count": null,
   "metadata": {},
   "outputs": [],
   "source": [
    "n=[1,2,3,4,5,6,7,8, 9, ]\n",
    "x=[1,2,3,4,5,6,7,8, 9, ]\n",
    "y=[2,4,6,8,10,12,14,16,18,]\n",
    "z=[3,6,9,12,15,18,21,24,27]\n",
    "a=[0.5,1,1.5,2,2.5,3,3.5,4,4.5]\n",
    "plt.plot(n,y,\"r\")\n",
    "plt.plot(n,z,\"b\")\n",
    "plt.plot(n,x,\"g\")\n",
    "plt.plot(n,a,\"k\")\n",
    "plt.show()"
   ]
  },
  {
   "cell_type": "markdown",
   "metadata": {},
   "source": [
    "## Big $O$ Notation\n",
    "\n",
    "O is read as \"On the order of\" or \"On the magnitude of\"\n",
    "\n",
    "Growth rates are expressed in \"Big O\" notation O is expressed as a mathmatical function such as $O(N)$\n",
    "\n",
    "### Big $0$ is an approximation of the number of times the most frequently executed statement is executed.\n",
    "\n",
    "### Shape of the curve\n",
    "Big O is an approximation.  It is concerned with the ***shape of the curve*** when graphed\n",
    "\n",
    "Big O ignores things like constants.\n",
    "\n",
    "* The y array (the \"r\" plot) has values of 2*n\n",
    "* The z array (the \"b\" plot) has values of 3*n\n",
    "* The x array (the \"g\" plot) has values of 1*n\n",
    "* The a array (the \"k\" plot) has values of ½*n\n",
    "\n",
    "All of these are $0(n)$ functions because we ignore constants.  All of them are $0(N)$ \n",
    "\n",
    "### N is a Surrogate for time\n",
    "\n",
    "n is the number of times the innermost statement in a loop is executed.  It is a surrogate (or stand-in or substitute) for the time it will take to execute the loop if n is large.\n",
    "\n",
    "#### Big Oh notation only matters for ***Large*** values of n\n",
    "\n",
    "What is large is subject to interpretation.\n",
    "\n",
    "* For $O(N)$ functions, \"large\" values of n would probably be in the millions or billions on modern computers\n",
    "* For $0(N^N)$ functions, N may be in the tens or hundreds "
   ]
  },
  {
   "cell_type": "markdown",
   "metadata": {},
   "source": [
    "## $(1) or the \"Constant\" Growth Rate\n",
    "\n",
    "The \"best\" growth rate is usually $O(1)$ or the \"Constant Growth Rate\"  No matter how large n is, the time is always the same.\n",
    "\n",
    "Examples of a constant growth rate would be reporting the first item on the list or printing a heading for a list.  (It does not matter how many items are on the list, the code to print the heading will only happen 1 time)"
   ]
  },
  {
   "cell_type": "code",
   "execution_count": null,
   "metadata": {},
   "outputs": [],
   "source": [
    "import matplotlib.pyplot as plt\n",
    "n=[1,10,46,100,1000, ]\n",
    "y=[1,1,1,1,1,]\n",
    "plt.plot(n,y,\"r\")\n",
    "plt.show()"
   ]
  }
 ],
 "metadata": {
  "kernelspec": {
   "display_name": "Python 3",
   "language": "python",
   "name": "python3"
  },
  "language_info": {
   "codemirror_mode": {
    "name": "ipython",
    "version": 3
   },
   "file_extension": ".py",
   "mimetype": "text/x-python",
   "name": "python",
   "nbconvert_exporter": "python",
   "pygments_lexer": "ipython3",
   "version": "3.10.12"
  }
 },
 "nbformat": 4,
 "nbformat_minor": 2
}
